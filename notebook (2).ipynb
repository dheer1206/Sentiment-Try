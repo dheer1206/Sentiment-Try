{
 "cells": [
  {
   "cell_type": "code",
   "execution_count": 16,
   "metadata": {
    "_cell_guid": "374fc92f-ce1c-740d-4ab5-786c9197e189",
    "_uuid": "b33a9282cbf223dce81e485c29c3222d18a8334a"
   },
   "outputs": [],
   "source": [
    "# This Python 3 environment comes with many helpful analytics libraries installed\n",
    "# It is defined by the kaggle/python docker image: https://github.com/kaggle/docker-python\n",
    "# For example, here's several helpful packages to load in \n",
    "\n",
    "import numpy as np # linear algebra\n",
    "import pandas as pd # data processing, CSV file I/O (e.g. pd.read_csv)\n",
    "from sklearn.model_selection import train_test_split # function for splitting data to train and test sets\n",
    "\n",
    "import nltk\n",
    "from nltk.corpus import stopwords\n",
    "from nltk.classify import SklearnClassifier\n",
    "\n",
    "\n",
    "\n",
    "from wordcloud import STOPWORDS, WordCloud\n",
    "import matplotlib.pyplot as plt\n",
    "%matplotlib inline\n",
    "\n",
    "# Input data files are available in the \"../input/\" directory.\n",
    "# For example, running this (by clicking run or pressing Shift+Enter) will list the files in the input directory\n",
    "\n",
    "#from subprocess import check_output"
   ]
  },
  {
   "cell_type": "markdown",
   "metadata": {
    "_cell_guid": "7cf1dbb0-d445-de60-6737-7272df1e5978",
    "_uuid": "f4a72a68e6efd2e6f028663dbacfbfcf135b26cf"
   },
   "source": [
    "I decided to only do sentiment analysis on this dataset, therfore I dropped the unnecessary colunns, keeping only *sentiment* and *text*."
   ]
  },
  {
   "cell_type": "code",
   "execution_count": 51,
   "metadata": {
    "_cell_guid": "ed8f4233-db8e-15c6-0568-c89cb6ba9d53",
    "_uuid": "7f81bb8bee59130b3371ade9dcc9848150c8e317"
   },
   "outputs": [
    {
     "name": "stdout",
     "output_type": "stream",
     "text": [
      "   PhraseId  SentenceId                                             Phrase  \\\n",
      "0         1           1  A series of escapades demonstrating the adage ...   \n",
      "1         2           1  A series of escapades demonstrating the adage ...   \n",
      "2         3           1                                           A series   \n",
      "3         4           1                                                  A   \n",
      "4         5           1                                             series   \n",
      "\n",
      "   Sentiment  \n",
      "0          1  \n",
      "1          2  \n",
      "2          2  \n",
      "3          2  \n",
      "4          2  \n",
      "(20000, 4)\n"
     ]
    }
   ],
   "source": [
    "data2 = pd.read_csv('train.tsv',delimiter = '\\t')\n",
    "data = data2[data2['PhraseId'] <= 20000]\n",
    "print (data.head())\n",
    "print (data.shape)"
   ]
  },
  {
   "cell_type": "code",
   "execution_count": 52,
   "metadata": {},
   "outputs": [],
   "source": [
    "# Keeping only the neccessary columns\n",
    "data = data[['Phrase','Sentiment']]"
   ]
  },
  {
   "cell_type": "code",
   "execution_count": 53,
   "metadata": {},
   "outputs": [],
   "source": [
    "dictionary = { 0 : 'Negative' , 1 : 'Negative' , 2 : 'Neutral' , 3 : 'Positive' , 4 : 'Positive' }\n",
    "data = data.replace({'Sentiment' : dictionary})"
   ]
  },
  {
   "cell_type": "markdown",
   "metadata": {
    "_cell_guid": "23c5e618-fc4a-97da-8be6-cd98815bc4c7",
    "_uuid": "3ed0d61a8280b8ad8528a8ef268a5392e3a662aa"
   },
   "source": [
    "First of all, splitting the dataset into a training and a testing set. The test set is the 10% of the original dataset. For this particular analysis I dropped the neutral tweets, as my goal was to only differentiate positive and negative tweets."
   ]
  },
  {
   "cell_type": "code",
   "execution_count": 54,
   "metadata": {
    "_cell_guid": "8e60c228-ff93-e823-6d39-34c1b0fe3c3c",
    "_uuid": "76751a81cd8477f1da998777da5ab7066767f9c2"
   },
   "outputs": [],
   "source": [
    "# Splitting the dataset into train and test set\n",
    "train, test = train_test_split(data,test_size = 0.2)\n",
    "# Removing neutral sentiments\n",
    "train = train[train.Sentiment != \"Neutral\"]"
   ]
  },
  {
   "cell_type": "markdown",
   "metadata": {
    "_cell_guid": "7598f1b2-7cad-3db3-746f-6f44e2dc7fa5",
    "_uuid": "84dfe0c26576a5cfe9683674bc80701d44dc03e2"
   },
   "source": [
    "As a next step I separated the Positive and Negative tweets of the training set in order to easily visualize their contained words.  After that I cleaned the text from hashtags, mentions  and links. Now they were ready for a WordCloud visualization which shows only the most emphatic words of the Positive and Negative tweets."
   ]
  },
  {
   "cell_type": "code",
   "execution_count": 55,
   "metadata": {
    "_cell_guid": "516a52cc-dd69-3b5f-7487-1467a701f1e2",
    "_uuid": "5124efeec4bfcb648bd913a4fb14314fdc5b79ca"
   },
   "outputs": [],
   "source": [
    "train_pos = train[ train['Sentiment'] == 'Positive']\n",
    "train_pos = train_pos['Phrase']\n",
    "train_neg = train[ train['Sentiment'] == 'Negative']\n",
    "train_neg = train_neg['Phrase']\n",
    "\n",
    "def wordcloud_draw(data, color = 'black'):\n",
    "    words = ' '.join(data)\n",
    "    cleaned_word = \" \".join([word for word in words.split()\n",
    "                            if 'http' not in word\n",
    "                                and not word.startswith('@')\n",
    "                                and not word.startswith('#')\n",
    "                                and word != 'RT'\n",
    "                            ])\n",
    "    wordcloud = WordCloud(stopwords=STOPWORDS,\n",
    "                      background_color=color,\n",
    "                      width=2500,\n",
    "                      height=2000\n",
    "                     ).generate(cleaned_word)\n",
    "    plt.figure(1,figsize=(13, 13))\n",
    "    plt.imshow(wordcloud)\n",
    "    plt.axis('off')\n",
    "    plt.show()\n",
    "\n",
    "    '''\n",
    "print(\"Positive words\")\n",
    "wordcloud_draw(train_pos,'white')\n",
    "print(\"Negative words\")\n",
    "wordcloud_draw(train_neg)\n",
    "'''"
   ]
  },
  {
   "cell_type": "markdown",
   "metadata": {
    "_cell_guid": "3fe4c2c4-e40e-11c9-aae9-b0ea85797ad9",
    "_uuid": "445505ddf0b2e4abe97c72e653437e1b902013d7"
   },
   "source": [
    "Interesting to notice the following words and expressions in the positive word set:\n",
    " **truth**, **strong**, **legitimate**,  **together**, **love**, **job**\n",
    "\n",
    "In my interpretation, people tend to believe that their ideal candidate is truthful, legitimate, above good and bad.\n",
    "\n",
    "\n",
    "----------\n",
    "\n",
    "\n",
    "At the same time, negative tweets contains words like:\n",
    "**influence**, **news**, **elevator music**, **disappointing**, **softball**, **makeup**, **cherry picking**, **trying**\n",
    "\n",
    "In my understanding people missed the decisively acting and considered the scolded candidates too soft and cherry picking."
   ]
  },
  {
   "cell_type": "markdown",
   "metadata": {
    "_cell_guid": "42366853-8e0e-0c92-a60d-29109c10c697",
    "_uuid": "c426a89e2ce9297ae488ea327915f9a5e8f6d9d2"
   },
   "source": [
    "After the vizualization, I removed the hashtags, mentions, links and stopwords from the training set.\n",
    "\n",
    "**Stop Word:** Stop Words are words which do not contain important significance to be used in Search Queries. Usually these words are filtered out from search queries because they return vast amount of unnecessary information. ( the, for, this etc. )"
   ]
  },
  {
   "cell_type": "code",
   "execution_count": 56,
   "metadata": {
    "_cell_guid": "b66995b2-8d9f-8c9e-6b0a-273dad7e75c1",
    "_uuid": "244966e80cd771a743985e45eb18d7103edfce83"
   },
   "outputs": [],
   "source": [
    "                \n",
    "tweets = []\n",
    "stopwords_set = set(stopwords.words(\"english\"))\n",
    "\n",
    "for index, row in train.iterrows():\n",
    "    words_filtered = [e.lower() for e in row.Phrase.split() if len(e) >= 3]\n",
    "    words_cleaned = [word for word in words_filtered\n",
    "        if 'http' not in word\n",
    "        and not word.startswith('@')\n",
    "        and not word.startswith('#')\n",
    "        and word != 'RT']\n",
    "    words_without_stopwords = [word for word in words_cleaned if not word in stopwords_set]\n",
    "    tweets.append((words_cleaned,row.Sentiment))\n",
    "\n",
    "test_pos = test[ test['Sentiment'] == 'Positive']\n",
    "test_pos = test_pos['Phrase']\n",
    "test_neg = test[ test['Sentiment'] == 'Negative']\n",
    "test_neg = test_neg['Phrase']"
   ]
  },
  {
   "cell_type": "markdown",
   "metadata": {
    "_cell_guid": "fb9264bc-029f-85f3-d6e1-44b9d130d801",
    "_uuid": "f2d0b8d28516b16594638f3aeeaa852870247d5a"
   },
   "source": [
    "As a next step I extracted the so called features with nltk lib, first by measuring a frequent distribution and by selecting the resulting keys."
   ]
  },
  {
   "cell_type": "code",
   "execution_count": 57,
   "metadata": {
    "_cell_guid": "253a2784-7de9-c1d4-293c-43b036627930",
    "_uuid": "72a2f56e05f949594f1e532f5d7bfc912b4d529e"
   },
   "outputs": [],
   "source": [
    "# Extracting word features\n",
    "def get_words_in_tweets(tweets):\n",
    "    all = []\n",
    "    for (words, sentiment) in tweets:\n",
    "        all.extend(words)\n",
    "    return all\n",
    "\n",
    "def get_word_features(wordlist):\n",
    "    wordlist = nltk.FreqDist(wordlist)\n",
    "    features = wordlist.keys()\n",
    "    return features\n",
    "w_features = get_word_features(get_words_in_tweets(tweets))\n",
    "\n",
    "def extract_features(document):\n",
    "    document_words = set(document)\n",
    "    features = {}\n",
    "    for word in w_features:\n",
    "        features['containts(%s)' % word] = (word in document_words)\n",
    "    return features"
   ]
  },
  {
   "cell_type": "markdown",
   "metadata": {
    "_cell_guid": "d4202bb1-ef8a-312c-e5a9-27bb282411eb",
    "_uuid": "6a3e8940dd3a7f6914b5255b5c6d62a9b3b52533"
   },
   "source": [
    "Hereby I plotted the most frequently distributed words. The most words are centered around debate nights."
   ]
  },
  {
   "cell_type": "code",
   "execution_count": 58,
   "metadata": {
    "_cell_guid": "1c8ac3c2-22ed-d267-d04c-931d9e2f9080",
    "_uuid": "0d758ad142250448b61bd9b8f2d4e0dcb3c5f9ca"
   },
   "outputs": [],
   "source": [
    "#wordcloud_draw(w_features)"
   ]
  },
  {
   "cell_type": "markdown",
   "metadata": {
    "_cell_guid": "dbf474bb-69f1-a2cf-5f37-265cba07a428",
    "_uuid": "202dc12592a721bc74619fbe8f12a289a5a065f6"
   },
   "source": [
    "Using the nltk NaiveBayes Classifier I classified the extracted tweet word features."
   ]
  },
  {
   "cell_type": "code",
   "execution_count": 59,
   "metadata": {
    "_cell_guid": "9b89e1a0-fb0b-3f6f-6577-5d20ecadcf58",
    "_uuid": "8146f0d2cf1749410d3782cd9b3acb3cf7985a8f"
   },
   "outputs": [
    {
     "name": "stdout",
     "output_type": "stream",
     "text": [
      "Time Taken is 73.01341599999999\n"
     ]
    }
   ],
   "source": [
    "import time\n",
    "\n",
    "start = time.clock()\n",
    "\n",
    "training_set = nltk.classify.apply_features(extract_features,tweets)\n",
    "classifier = nltk.NaiveBayesClassifier.train(training_set)\n",
    "\n",
    "end = time.clock()\n",
    "\n",
    "print (\"Time Taken is \" + str(end-start))"
   ]
  },
  {
   "cell_type": "markdown",
   "metadata": {
    "_cell_guid": "6dc107eb-d6b9-9260-23c4-83fad0d4c795",
    "_uuid": "e2beeb0f66b308354ec346f16dae2137caf6cc11"
   },
   "source": [
    "Finally, with not-so-intelligent metrics, I tried to measure how the classifier algorithm scored."
   ]
  },
  {
   "cell_type": "code",
   "execution_count": 60,
   "metadata": {
    "_cell_guid": "0db3c2eb-3a31-6d29-f9fa-7bf5cc899af1",
    "_uuid": "5af3d716f629f178d90f0a2d67ff0d33e9e9444c"
   },
   "outputs": [
    {
     "name": "stdout",
     "output_type": "stream",
     "text": [
      "[Negative]: 786/636 \n",
      "[Positive]: 1018/913 \n"
     ]
    }
   ],
   "source": [
    "\n",
    "neg_cnt = 0\n",
    "pos_cnt = 0\n",
    "for obj in test_neg: \n",
    "    res =  classifier.classify(extract_features(obj.split()))\n",
    "    if(res == 'Negative'): \n",
    "        neg_cnt = neg_cnt + 1\n",
    "for obj in test_pos: \n",
    "    res =  classifier.classify(extract_features(obj.split()))\n",
    "    if(res == 'Positive'): \n",
    "        pos_cnt = pos_cnt + 1\n",
    "        \n",
    "print('[Negative]: %s/%s '  % (len(test_neg),neg_cnt))        \n",
    "print('[Positive]: %s/%s '  % (len(test_pos),pos_cnt))    "
   ]
  },
  {
   "cell_type": "markdown",
   "metadata": {
    "_cell_guid": "1f29d2ef-48fa-0343-ff7a-58f5f2ac43ba",
    "_uuid": "20ffc76af45bf21a1cc396bf029bd13f33a8dc93"
   },
   "source": [
    "## Epilog ##\n",
    "\n",
    "In this project I was curious how well nltk and the NaiveBayes Machine Learning algorithm performs for Sentiment Analysis. In my experience, it works rather well for negative comments. The problems arise when the tweets are ironic, sarcastic has reference or own difficult context.\n",
    "\n",
    "Consider the following tweet:\n",
    "*\"Muhaha, how sad that the Liberals couldn't destroy Trump.  Marching forward.\"*\n",
    "As you may already thought, the words **sad** and **destroy** highly influences the evaluation, although this tweet should be positive when observing its meaning and context. \n",
    "\n",
    "To improve the evalutation accuracy, we need something to take the context and references into consideration. As my project 2.0, I will try to build an LSTM network, and benchmark its results compared to this nltk Machine Learning implementation. Stay tuned. "
   ]
  },
  {
   "cell_type": "code",
   "execution_count": 50,
   "metadata": {
    "_cell_guid": "feda97ab-f4fe-24a5-34a9-a46926f77fe7",
    "_uuid": "c5fbc93928e075c5e06e48dcb0457058cba579c5"
   },
   "outputs": [
    {
     "name": "stdout",
     "output_type": "stream",
     "text": [
      "Positive\n"
     ]
    }
   ],
   "source": [
    "test_sentence = \"\"\n",
    "\n",
    "test_sent_features = extract_features(test_sentence.split())\n",
    "\n",
    "print (classifier.classify(test_sent_features))"
   ]
  },
  {
   "cell_type": "code",
   "execution_count": null,
   "metadata": {},
   "outputs": [],
   "source": []
  }
 ],
 "metadata": {
  "_change_revision": 0,
  "_is_fork": false,
  "kernelspec": {
   "display_name": "Python 3",
   "language": "python",
   "name": "python3"
  },
  "language_info": {
   "codemirror_mode": {
    "name": "ipython",
    "version": 3
   },
   "file_extension": ".py",
   "mimetype": "text/x-python",
   "name": "python",
   "nbconvert_exporter": "python",
   "pygments_lexer": "ipython3",
   "version": "3.5.2"
  }
 },
 "nbformat": 4,
 "nbformat_minor": 1
}
